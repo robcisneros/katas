{
 "cells": [
  {
   "cell_type": "markdown",
   "metadata": {},
   "source": [
    "# Kata 5 Operadores aritméticos"
   ]
  },
  {
   "cell_type": "code",
   "execution_count": 7,
   "metadata": {},
   "outputs": [
    {
     "name": "stdout",
     "output_type": "stream",
     "text": [
      "628949330\n",
      "390577534\n"
     ]
    }
   ],
   "source": [
    "# Ejercicio 1 - Distancia ente dos planetas\n",
    "\n",
    "from math import ceil, floor\n",
    "\n",
    "a = 149597870 # distancia de Tierra en km\n",
    "b = 778547200 # distancia de Jupiter en km\n",
    "dkm = abs(b-a) # sigue en km\n",
    "print(dkm)\n",
    "# Conversión a millas 1 km = 0.621 y redondear al entero superior\n",
    "print(ceil(dkm * 0.621)) # distancia en millas\n"
   ]
  },
  {
   "cell_type": "code",
   "execution_count": 16,
   "metadata": {},
   "outputs": [
    {
     "name": "stdout",
     "output_type": "stream",
     "text": [
      "La distancia ente los planetas es de 10358.901 millas\n"
     ]
    }
   ],
   "source": [
    "# Ejercicio 2 - Convierte cadenas en números y usa valores absolutos\n",
    "planeta1 = input('Introduzca la distancia entre el sol y el 1° planeta en KM (número entero plox)')\n",
    "planeta2 = input('Introduzca la distancia entre el sol y el 2° planeta en KM (número entero plox)')\n",
    "p1 = int(planeta1)\n",
    "p2 = int(planeta2)\n",
    "distanciaMillas = abs((p1-p2) * 0.621)\n",
    "print(\"La distancia ente los planetas es de \" + str(distanciaMillas) + \" millas\")"
   ]
  }
 ],
 "metadata": {
  "interpreter": {
   "hash": "22626d351ea06a19e9d47a22d2b9e6ae41889ab57a49385ad0921d17b4cbec0e"
  },
  "kernelspec": {
   "display_name": "Python 3.10.2 64-bit",
   "language": "python",
   "name": "python3"
  },
  "language_info": {
   "codemirror_mode": {
    "name": "ipython",
    "version": 3
   },
   "file_extension": ".py",
   "mimetype": "text/x-python",
   "name": "python",
   "nbconvert_exporter": "python",
   "pygments_lexer": "ipython3",
   "version": "3.10.2"
  },
  "orig_nbformat": 4
 },
 "nbformat": 4,
 "nbformat_minor": 2
}
