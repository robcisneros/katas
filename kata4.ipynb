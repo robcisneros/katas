{
 "cells": [
  {
   "cell_type": "markdown",
   "metadata": {},
   "source": [
    "# Kata 4 Transformar cadenas"
   ]
  },
  {
   "cell_type": "code",
   "execution_count": 24,
   "metadata": {},
   "outputs": [
    {
     "name": "stdout",
     "output_type": "stream",
     "text": [
      "['\\n On average, the Moon moves 4cm away from the Earth every year', 'The highest daylight temperature of the Moon is 127 Celsius.']\n"
     ]
    }
   ],
   "source": [
    "# EJERCICIO 1\n",
    "text = \"\"\"Interesting facts about the Moon. The Moon is Earth's only satellite. There are several interesting facts about the Moon and how it affects life here on Earth. \\n On average, the Moon moves 4cm away from the Earth every year. This yearly drift is not significant enough to cause immediate effects on Earth. The highest daylight temperature of the Moon is 127 C.\"\"\"\n",
    "# Divide el texto anterior en cada oración para trabajar con su contenido:   \n",
    "parts = text.split(\". \")\n",
    "# Define algunas palabras clave para búsqueda que te ayudarán a determinar si una oración contiene un hecho.\n",
    "keyWords = [\"average\", \"temperature\", \"distance\"]\n",
    "# Crea un bucle para imprimir solo datos sobre la Luna que estén relacionados con las palabras clave definidas anteriormente y reemplaza C por Celsius:\n",
    "facts = []\n",
    "for sentence in parts:\n",
    "    for keyWord in keyWords:\n",
    "        if keyWord in sentence:\n",
    "            newSentence = sentence.replace(' C', ' Celsius')\n",
    "            facts.append(newSentence)\n",
    "            break\n",
    "print(facts)"
   ]
  },
  {
   "cell_type": "code",
   "execution_count": 58,
   "metadata": {},
   "outputs": [
    {
     "name": "stdout",
     "output_type": "stream",
     "text": [
      " -*--*--*--*--*--*--*--*--*--*--*--*--*--*--*--*--*--*--*--*-\n",
      "Nombre del planeta: Earth\n",
      "Gravedad: La gravedad en Moon es de 1.62 m/s2\n",
      " \n",
      " -*--*--*--*--*--*--*--*--*--*--*--*--*--*--*--*--*--*--*--*-\n",
      "Nombre del planeta: Earth\n",
      "Gravedad: La gravedad en Moon es de 1.62 m/s2\n",
      " \n",
      " Gravity of: Ganímedes \n",
      "------------------------------------------------------------\n",
      "Nombre del planeta: Marte \n",
      "Gravedad: La gravedad en Ganímedes es de 1.43 m/s2\n",
      "\n"
     ]
    }
   ],
   "source": [
    "# EJERCICIO 2\n",
    "# Datos con los que vas a trabajar\n",
    "name = \"Moon\"\n",
    "gravity = 0.00162 # in kms\n",
    "planet = \"Earth\"\n",
    "# crea un título para el texto. Debido a que este texto trata sobre la gravedad en la Tierra y la Luna, úsalo para crear un título significativo. \n",
    "# Utiliza las variables en lugar de escribir.\n",
    "title = f\"Gravity on {name}\"\n",
    "# Ahora crea una plantilla de cadena multilínea para contener el resto de la información.\n",
    "# En lugar de usar kilómetros, debes convertir la distancia a metros multiplicando por 1,000.\n",
    "facts = f\"\"\" {'-*-' * 20}\n",
    "Nombre del planeta: {planet}\n",
    "Gravedad: La gravedad en {name} es de {round(gravity * 1000, 3)} m/s2\n",
    " \"\"\"\n",
    " # Finalmente, usa ambas variables para unir el título y los hechos.\n",
    "template = f\"\"\"{title.title()}\n",
    "{facts}\n",
    " \"\"\"\n",
    "print(facts)\n",
    "# Probando con diferentes datos\n",
    "planet = 'Marte '\n",
    "gravity  = 0.00143\n",
    "name = 'Ganímedes'\n",
    "print(facts)\n",
    "# La salida no muestra información sobre Marte. Todavía muestra información sobre la Luna.\n",
    "# Esto sucede porque las variables una vez asignadas no se pueden reasignar.\n",
    "# Para evitar este problema, vuelva a hacer la plantilla para utilizar .format():\n",
    "newTemplate = f\"\"\" Gravity of: {name} \n",
    "{'-' * 60}\n",
    "Nombre del planeta: {planet}\n",
    "Gravedad: La gravedad en {name} es de {round(gravity * 1000, 3)} m/s2\n",
    "\"\"\"\n",
    "print(newTemplate.format(name=name, planet=planet, gravity=gravity))"
   ]
  }
 ],
 "metadata": {
  "interpreter": {
   "hash": "22626d351ea06a19e9d47a22d2b9e6ae41889ab57a49385ad0921d17b4cbec0e"
  },
  "kernelspec": {
   "display_name": "Python 3.10.2 64-bit",
   "language": "python",
   "name": "python3"
  },
  "language_info": {
   "codemirror_mode": {
    "name": "ipython",
    "version": 3
   },
   "file_extension": ".py",
   "mimetype": "text/x-python",
   "name": "python",
   "nbconvert_exporter": "python",
   "pygments_lexer": "ipython3",
   "version": "3.10.2"
  },
  "orig_nbformat": 4
 },
 "nbformat": 4,
 "nbformat_minor": 2
}
