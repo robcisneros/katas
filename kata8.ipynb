{
 "cells": [
  {
   "cell_type": "markdown",
   "metadata": {},
   "source": [
    "# Kata 8 diccionarios"
   ]
  },
  {
   "cell_type": "code",
   "execution_count": 29,
   "metadata": {},
   "outputs": [
    {
     "name": "stdout",
     "output_type": "stream",
     "text": [
      "Mars tiene: 2 lunas\n",
      "Mars tiene de circunferencia (km): {'polar': 6752, 'equatorial': 6792} \n"
     ]
    }
   ],
   "source": [
    "# EJERCICIO 1\n",
    "\n",
    "# Crea un diccionario llamado planet con los datos propuestos\n",
    "planets = {\n",
    "    'planet1': {\n",
    "        'name': 'Earth',\n",
    "        'moon': 1,\n",
    "        'hasPeople': True\n",
    "    },\n",
    "    'planet2': {\n",
    "        'name': 'Mars',\n",
    "        'moon': 2\n",
    "    },\n",
    "    }\n",
    "# Muestra el nombre del planeta y el número de lunas que tiene.\n",
    "print(f'{planets[\"planet2\"][\"name\"]} tiene: {planets[\"planet2\"][\"moon\"]} lunas')\n",
    "# Agrega la clave circunferencia con los datos proporcionados previamente\n",
    "planets['planet2']['circunferencia (km)'] = {'polar': 6752, 'equatorial': 6792}\n",
    "# print(planets[\"planet2\"][\"circunferencia (km)\"])\n",
    "print(f'{planets[\"planet2\"][\"name\"]} tiene de circunferencia (km): {planets[\"planet2\"][\"circunferencia (km)\"]} ')\n"
   ]
  },
  {
   "cell_type": "code",
   "execution_count": 34,
   "metadata": {},
   "outputs": [
    {
     "name": "stdout",
     "output_type": "stream",
     "text": [
      "El número total de lunas es de: 214 \n",
      "El promedio de lunas por planeta es de: 17.833 \n"
     ]
    }
   ],
   "source": [
    "# EJERCICIO 2\n",
    "# En este escenario, calcularás tanto el número total de lunas en el sistema solar como el número promedio de lunas que tiene un planeta.\n",
    "planet_moons = {\n",
    "    'mercury': 0,\n",
    "    'venus': 0,\n",
    "    'earth': 1,\n",
    "    'mars': 2,\n",
    "    'jupiter': 79,\n",
    "    'saturn': 82,\n",
    "    'uranus': 27,\n",
    "    'neptune': 14,\n",
    "    'pluto': 5,\n",
    "    'haumea': 2,\n",
    "    'makemake': 1,\n",
    "    'eris': 1\n",
    "}\n",
    "moons = 0\n",
    "planets = len(planet_moons)\n",
    "for value in planet_moons.values():\n",
    "    moons = moons + value\n",
    "print(f'El número total de lunas es de: {moons} ')\n",
    "print(f'El promedio de lunas por planeta es de: {round(moons/planets,3)} ')"
   ]
  }
 ],
 "metadata": {
  "interpreter": {
   "hash": "22626d351ea06a19e9d47a22d2b9e6ae41889ab57a49385ad0921d17b4cbec0e"
  },
  "kernelspec": {
   "display_name": "Python 3.10.2 64-bit",
   "language": "python",
   "name": "python3"
  },
  "language_info": {
   "codemirror_mode": {
    "name": "ipython",
    "version": 3
   },
   "file_extension": ".py",
   "mimetype": "text/x-python",
   "name": "python",
   "nbconvert_exporter": "python",
   "pygments_lexer": "ipython3",
   "version": "3.10.2"
  },
  "orig_nbformat": 4
 },
 "nbformat": 4,
 "nbformat_minor": 2
}
