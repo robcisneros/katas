{
 "cells": [
  {
   "cell_type": "markdown",
   "metadata": {},
   "source": [
    "# Kata 3 condicionales"
   ]
  },
  {
   "cell_type": "markdown",
   "metadata": {},
   "source": [
    "Imprimir una advertencia si un asteroide se acerca a la Tierra demasiado rápido. La velocidad del asteroide varía dependiendo de lo cerca que esté del sol, y cualquier velocidad superior a 25 kilómetros por segundo (km/s) merece una advertencia.\n",
    "\n",
    "Un asteroide se acerca, y viaja a una velocidad de 49 km/s."
   ]
  },
  {
   "cell_type": "code",
   "execution_count": 3,
   "metadata": {},
   "outputs": [
    {
     "name": "stdout",
     "output_type": "stream",
     "text": [
      "¡Alerta! Un asteroide viaja en dirección a la Tierra, sobrepasa los 25 km/s.\n"
     ]
    }
   ],
   "source": [
    "limite = 25\n",
    "velocidadAsteroide = 49\n",
    "if velocidadAsteroide > limite:\n",
    "    print(\"¡Alerta! Un asteroide viaja en dirección a la Tierra, sobrepasa los \"+ str(limite) + \" km/s.\")\n",
    "else:\n",
    "    print(\"Bitácora de Buzz Ligthyear, todo en orden\")"
   ]
  },
  {
   "cell_type": "markdown",
   "metadata": {},
   "source": [
    "Si un asteroide entra en la atmósfera de la Tierra a una velocidad mayor o igual a 20 km/s, a veces produce un rayo de luz que se puede ver desde la Tierra. Escribe la lógica condicional que usa declaraciones if, else, y elif para alertar a las personas de todo el mundo que deben buscar un asteroide en el cielo. ¡Hay uno que se dirige a la tierra ahora a una velocidad de 19 km/s!"
   ]
  },
  {
   "cell_type": "code",
   "execution_count": 8,
   "metadata": {},
   "outputs": [
    {
     "name": "stdout",
     "output_type": "stream",
     "text": [
      "Bitácora de Buzz Ligthyear, todo en orden\n"
     ]
    }
   ],
   "source": [
    "vAsteroide = 19\n",
    "if vAsteroide > 20:\n",
    "    print(\"¡Alerta, un asteroide acercándose! Es visible un rayo de luz en el cielo,¡Búscalo!\")\n",
    "elif vAsteroide == 20:\n",
    "    print(\"¡Alerta, un asteroide acercándose al límite de velocidad! Es visible un rayo de luz en el cielo,¡Búscalo!\")\n",
    "else:\n",
    "    print(\"Bitácora de Buzz Ligthyear, todo en orden\")"
   ]
  },
  {
   "cell_type": "markdown",
   "metadata": {},
   "source": [
    "Los asteroides de menos de 25 metros en su dimensión más grande probablemente se quemarán a medida que entren en la atmósfera de la Tierra.\n",
    "\n",
    "Si una pieza de un asteroide que es más grande que 25 metros pero más pequeña que 1000 metros golpeara la Tierra, causaría mucho daño.\n",
    "También discutimos en el ejercicio anterior que:\n",
    "\n",
    "Cualquier velocidad superior a 25 kilómetros por segundo (km/s) merece una advertencia.\n",
    "Si un asteroide entra en la atmósfera de la Tierra a una velocidad mayor o igual a 20 km/s, a veces produce un rayo de luz que se puede ver desde la Tierra.\n",
    "Usando toda esta información, escribe un programa que emita la advertencia o información correcta a la gente de la Tierra, según la velocidad y el tamaño de un asteroide. Utiliza instrucciones if, else, y elif, así como los operadores and y or."
   ]
  },
  {
   "cell_type": "code",
   "execution_count": 22,
   "metadata": {},
   "outputs": [
    {
     "name": "stdout",
     "output_type": "stream",
     "text": [
      "¡Alerta!, es posible ver un rayo de luz en el cielo a causa de un asteroide,¡Búscalo!\n"
     ]
    }
   ],
   "source": [
    "vAsteroide = 22 # km/s\n",
    "tAsteroide = 80 # m\n",
    "\n",
    "vLimite = 25 # km/s\n",
    "vVisible = 20 # km/s\n",
    "tamañoMin = 25 # m\n",
    "\n",
    "if vAsteroide >= vLimite and tAsteroide > tamañoMin:\n",
    "    print(\"¡Alerta! Asteroide acercándose a tierra a más de \" + str(vLimite) + \" km/s.\")\n",
    "    print(\"Si el asteroide golpea la Tierra causaría mucho daño por sus dimensiones.\")\n",
    "elif vAsteroide > vVisible:\n",
    "     print(\"¡Alerta!, es posible ver un rayo de luz en el cielo a causa de un asteroide,¡Búscalo!\")\n",
    "elif tAsteroide > tamañoMin:\n",
    "    print(\"Si el asteroide golpea la Tierra causaría mucho daño por sus dimensiones.\")\n",
    "elif tAsteroide < tamañoMin:\n",
    "    print(\"Bitácora de Buzz Ligthyear, todo en orden\")\n",
    "else:\n",
    "    print(\"Bitácora de Buzz Ligthyear, todo en orden\")"
   ]
  }
 ],
 "metadata": {
  "interpreter": {
   "hash": "22626d351ea06a19e9d47a22d2b9e6ae41889ab57a49385ad0921d17b4cbec0e"
  },
  "kernelspec": {
   "display_name": "Python 3.10.2 64-bit",
   "language": "python",
   "name": "python3"
  },
  "language_info": {
   "codemirror_mode": {
    "name": "ipython",
    "version": 3
   },
   "file_extension": ".py",
   "mimetype": "text/x-python",
   "name": "python",
   "nbconvert_exporter": "python",
   "pygments_lexer": "ipython3",
   "version": "3.10.2"
  },
  "orig_nbformat": 4
 },
 "nbformat": 4,
 "nbformat_minor": 2
}
