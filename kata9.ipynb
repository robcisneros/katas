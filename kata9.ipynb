{
 "cells": [
  {
   "cell_type": "markdown",
   "metadata": {},
   "source": [
    "# Kata 9 Uso de funciones"
   ]
  },
  {
   "cell_type": "code",
   "execution_count": null,
   "metadata": {},
   "outputs": [],
   "source": [
    "# EJERCICIO 1\n",
    "\n",
    "# sum(lectura1, lectura2, lectura3)\n",
    "def average_fuel(tanque1, tanque2, tanque3):\n",
    "    total_average = (tanque1 + tanque2 + tanque3) / 3\n",
    "    return print(f\"\"\"Reporte de combustible:\n",
    "    El promedio es de {total_average}\n",
    "    Tanque1: {tanque1}\n",
    "    Tanque2: {tanque2} \n",
    "    Tanque3: {tanque3}\n",
    "    \"\"\")\n",
    "\n",
    "# Llamamos a la función que genera el reporte print(funcion(tanque1, tanque2, tanque3))\n",
    "average_fuel(5,2,2)\n",
    "\n"
   ]
  },
  {
   "cell_type": "code",
   "execution_count": 21,
   "metadata": {},
   "outputs": [
    {
     "name": "stdout",
     "output_type": "stream",
     "text": [
      "\n",
      "    Fuel report:\n",
      "    Average: 4.0 \n",
      "    Tank n1: 2\n",
      "    Tank n2: 2\n",
      "    Tank n3: 8\n",
      "    \n"
     ]
    }
   ],
   "source": [
    "# CONTINUACIÓN DE EJERCICIO 1\n",
    "\n",
    "# Función promedio \n",
    "def average(items):\n",
    "    total = sum(items)\n",
    "    length_items = len(items)\n",
    "    return total / length_items\n",
    "# average([2,2,8])\n",
    "\n",
    "# Ahora actualiza la función de informes llamando a la nueva función del promedio:\n",
    "def fuel_report(tanque1, tanque2, tanque3):\n",
    "    return print(f\"\"\"\n",
    "    Fuel report:\n",
    "    Average: {average([tanque1, tanque2, tanque3])} \n",
    "    Tank n1: {tanque1}\n",
    "    Tank n2: {tanque2}\n",
    "    Tank n3: {tanque3}\n",
    "    \"\"\")\n",
    "\n",
    "fuel_report(2,2,8)"
   ]
  },
  {
   "cell_type": "code",
   "execution_count": 22,
   "metadata": {},
   "outputs": [
    {
     "name": "stdout",
     "output_type": "stream",
     "text": [
      "\n",
      "    Mission to: Moon \n",
      "    Total travel time: 65 minutes\n",
      "    Total fuel left: 500 gallons\n",
      "    \n"
     ]
    }
   ],
   "source": [
    "# EJERCICIO 2 Trabajo con argumentos de palabra clave\n",
    "\n",
    "# función que creará un informe preciso de la misión:\n",
    "def mission_report(pre_launch_time, flight_time, destination, out_tank, in_tank):\n",
    "    return print(f\"\"\"\n",
    "    Mission to: {destination} \n",
    "    Total travel time: {pre_launch_time + flight_time} minutes\n",
    "    Total fuel left: {out_tank + in_tank} gallons\n",
    "    \"\"\")\n",
    "mission_report(14, 51, \"Moon\", 200, 300)"
   ]
  },
  {
   "cell_type": "code",
   "execution_count": 36,
   "metadata": {},
   "outputs": [
    {
     "name": "stdout",
     "output_type": "stream",
     "text": [
      "\n",
      "    Mission to: Moon \n",
      "    Total travel time: 265 minutes\n",
      "    Total fuel left: 500 gallons\n",
      "    \n"
     ]
    }
   ],
   "source": [
    "# EJERCICIO 2 CONTINUACIÓN\n",
    "\n",
    "# función informe FLEXIBLE\n",
    "def mission_report(destination, *expense_time, **tanks):\n",
    "    return print(f\"\"\"\n",
    "    Mission to: {destination} \n",
    "    Total travel time: {sum(expense_time)} minutes\n",
    "    Total fuel left: {sum(tanks.values())} gallons\n",
    "    \"\"\")\n",
    "\n",
    "mission_report(\"Moon\", 14,201, 50, inTank=200, outTank=300)"
   ]
  },
  {
   "cell_type": "code",
   "execution_count": 46,
   "metadata": {},
   "outputs": [
    {
     "name": "stdout",
     "output_type": "stream",
     "text": [
      "\n",
      "    Mission to: Moon \n",
      "    Total travel time: 265 minutes\n",
      "    Total fuel left: 500 gallons\n",
      "    Fuel left in inTank: 200 gallons left\n",
      "Fuel left in outTank: 300 gallons left\n",
      "\n"
     ]
    }
   ],
   "source": [
    "# EJERCICIO 2 CONTINUACIÓN FOR EN TANQUES\n",
    "\n",
    "# Debido a que el combustible que queda en los tanques es específico de cada tanque,\n",
    "# actualiza la función para usar el nombre de cada tanque en el informe:\n",
    "\n",
    "def mission_report(destination, *expense_time, **tanks):\n",
    "    report = f\"\"\"\n",
    "    Mission to: {destination} \n",
    "    Total travel time: {sum(expense_time)} minutes\n",
    "    Total fuel left: {sum(tanks.values())} gallons\n",
    "    \"\"\"\n",
    "    for tank_name, fuel in tanks.items():\n",
    "        report += f\"Fuel left in {tank_name}: {fuel} gallons left\\n\"\n",
    "    return report\n",
    "    \n",
    "print(mission_report(\"Moon\", 14,201, 50, inTank=200, outTank=300))"
   ]
  }
 ],
 "metadata": {
  "interpreter": {
   "hash": "22626d351ea06a19e9d47a22d2b9e6ae41889ab57a49385ad0921d17b4cbec0e"
  },
  "kernelspec": {
   "display_name": "Python 3.10.2 64-bit",
   "language": "python",
   "name": "python3"
  },
  "language_info": {
   "codemirror_mode": {
    "name": "ipython",
    "version": 3
   },
   "file_extension": ".py",
   "mimetype": "text/x-python",
   "name": "python",
   "nbconvert_exporter": "python",
   "pygments_lexer": "ipython3",
   "version": "3.10.2"
  },
  "orig_nbformat": 4
 },
 "nbformat": 4,
 "nbformat_minor": 2
}
